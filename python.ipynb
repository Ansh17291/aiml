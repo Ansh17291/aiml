{
 "cells": [
  {
   "cell_type": "markdown",
   "id": "541c7bca",
   "metadata": {},
   "source": [
    "# Basic Python !\n"
   ]
  },
  {
   "cell_type": "code",
   "execution_count": 1,
   "id": "4bb7c07a",
   "metadata": {},
   "outputs": [
    {
     "data": {
      "text/plain": [
       "[100, 400, 900]"
      ]
     },
     "execution_count": 1,
     "metadata": {},
     "output_type": "execute_result"
    }
   ],
   "source": [
    "list = [10,20,30]\n",
    "\n",
    "[i**2 for i in list]"
   ]
  },
  {
   "cell_type": "code",
   "execution_count": 2,
   "id": "e1ae0f7b",
   "metadata": {},
   "outputs": [
    {
     "name": "stdout",
     "output_type": "stream",
     "text": [
      "[['John', 'Emily', 'Michael', 'Mary', 'Steven'], ['Maria', 'Juan', 'Javier', 'Natalia', 'Pilar']]\n"
     ]
    }
   ],
   "source": [
    "names = [[\"John\",\"Emily\",\"Michael\",\"Mary\",\"Steven\"],\n",
    "         [\"Maria\",\"Juan\",\"Javier\",\"Natalia\",\"Pilar\"]]\n",
    "print(names)"
   ]
  },
  {
   "cell_type": "markdown",
   "id": "e35bb954",
   "metadata": {},
   "source": [
    "\n",
    "#### We want to get names of all the people with two or more A's \n"
   ]
  },
  {
   "cell_type": "code",
   "execution_count": 3,
   "id": "42e85650",
   "metadata": {},
   "outputs": [
    {
     "name": "stdout",
     "output_type": "stream",
     "text": [
      "['Maria', 'Natalia']\n"
     ]
    }
   ],
   "source": [
    "new_names = []\n",
    "\n",
    "for name_list in names:\n",
    "    enough_as = [name for name in name_list if name.count(\"a\")>=2]\n",
    "    new_names.extend(enough_as)\n",
    "\n",
    "print(new_names)"
   ]
  },
  {
   "cell_type": "markdown",
   "id": "8a6db992",
   "metadata": {},
   "source": [
    "#### WE want to write it in a single line !"
   ]
  },
  {
   "cell_type": "code",
   "execution_count": 4,
   "id": "98c4bb90",
   "metadata": {},
   "outputs": [
    {
     "data": {
      "text/plain": [
       "['Maria', 'Natalia']"
      ]
     },
     "execution_count": 4,
     "metadata": {},
     "output_type": "execute_result"
    }
   ],
   "source": [
    "result = [name for name_list in names for name in name_list if name.count(\"a\") >= 2]\n",
    "result"
   ]
  },
  {
   "cell_type": "markdown",
   "id": "f15c9d13",
   "metadata": {},
   "source": [
    "## Functions"
   ]
  },
  {
   "cell_type": "code",
   "execution_count": 5,
   "id": "c268b924",
   "metadata": {},
   "outputs": [
    {
     "data": {
      "text/plain": [
       "9"
      ]
     },
     "execution_count": 5,
     "metadata": {},
     "output_type": "execute_result"
    }
   ],
   "source": [
    "# normal functions \n",
    "def Add(x,y)-> int:\n",
    "    return x+y\n",
    "\n",
    "Add(4,5)"
   ]
  },
  {
   "cell_type": "code",
   "execution_count": 6,
   "id": "2dbd6b53",
   "metadata": {},
   "outputs": [],
   "source": [
    "# functional Argument / Positional Arguments \n",
    "\n",
    "def my_function(x,y,z=1.5):\n",
    "    if z > 1:\n",
    "        return z*(x+y)\n",
    "    else:\n",
    "        return z/(x+y)\n"
   ]
  },
  {
   "cell_type": "markdown",
   "id": "47ec656e",
   "metadata": {},
   "source": [
    "Scope \n"
   ]
  },
  {
   "cell_type": "code",
   "execution_count": 7,
   "id": "93a378a5",
   "metadata": {},
   "outputs": [
    {
     "name": "stdout",
     "output_type": "stream",
     "text": [
      "[3]\n"
     ]
    },
    {
     "ename": "NameError",
     "evalue": "name 'b' is not defined",
     "output_type": "error",
     "traceback": [
      "\u001b[31m---------------------------------------------------------------------------\u001b[39m",
      "\u001b[31mNameError\u001b[39m                                 Traceback (most recent call last)",
      "\u001b[36mCell\u001b[39m\u001b[36m \u001b[39m\u001b[32mIn[7]\u001b[39m\u001b[32m, line 9\u001b[39m\n\u001b[32m      5\u001b[39m     \u001b[38;5;28mprint\u001b[39m(a)\n\u001b[32m      7\u001b[39m func(\u001b[32m3\u001b[39m)\n\u001b[32m----> \u001b[39m\u001b[32m9\u001b[39m \u001b[38;5;28mprint\u001b[39m(\u001b[43mb\u001b[49m)\n",
      "\u001b[31mNameError\u001b[39m: name 'b' is not defined"
     ]
    }
   ],
   "source": [
    "a = []\n",
    "def func(x):\n",
    "    a.append(x)\n",
    "    b=[]\n",
    "    print(a)\n",
    "\n",
    "func(3)\n",
    "\n",
    "print(b)\n",
    "\n"
   ]
  },
  {
   "cell_type": "code",
   "execution_count": 8,
   "id": "9d31ba67",
   "metadata": {},
   "outputs": [
    {
     "name": "stdout",
     "output_type": "stream",
     "text": [
      "[3, 4]\n",
      "[8]\n"
     ]
    }
   ],
   "source": [
    "def func1(x):\n",
    "    global b\n",
    "    b = []\n",
    "    a.append(x)\n",
    "    b.append(x*2)\n",
    "    print(a)\n",
    "\n",
    "func1(4)\n",
    "print(b)"
   ]
  },
  {
   "cell_type": "code",
   "execution_count": 9,
   "id": "043ef165",
   "metadata": {},
   "outputs": [
    {
     "name": "stdout",
     "output_type": "stream",
     "text": [
      "(1, 2, 3)\n",
      "<class 'tuple'>\n"
     ]
    }
   ],
   "source": [
    "def f():\n",
    "    a= 1\n",
    "    b=2\n",
    "    c=3\n",
    "    return a,b,c\n",
    "\n",
    "ans = f()\n",
    "print(ans)\n",
    "print(type(ans))"
   ]
  },
  {
   "cell_type": "code",
   "execution_count": 10,
   "id": "0cf84693",
   "metadata": {},
   "outputs": [
    {
     "name": "stdout",
     "output_type": "stream",
     "text": [
      "{'a': 1, 'b': 2, 'c': 3}\n",
      "<class 'dict'>\n"
     ]
    }
   ],
   "source": [
    "def return_dic():\n",
    "    a = 1\n",
    "    b = 2\n",
    "    c = 3\n",
    "    return {\n",
    "        \"a\" :a,\n",
    "        \"b\" : b,\n",
    "        \"c\" : c\n",
    "    }\n",
    "\n",
    "ans = return_dic()\n",
    "print(ans)\n",
    "print(type(ans))"
   ]
  },
  {
   "cell_type": "markdown",
   "id": "c7e462ff",
   "metadata": {},
   "source": [
    "### Regular Expression\n"
   ]
  },
  {
   "cell_type": "code",
   "execution_count": 11,
   "id": "770ab180",
   "metadata": {},
   "outputs": [
    {
     "name": "stdout",
     "output_type": "stream",
     "text": [
      "['Alabama', 'Georgia', 'Georgia', 'Georgia', 'Florida', 'South Carolina', 'West Virginia']\n"
     ]
    }
   ],
   "source": [
    "states=[\"  Alabama  \",\"Georgia!\",\"georgia\",\"Georgia\",\"FlOrida\",\n",
    "       \"south carolina##\",\"West virginia?\"]\n",
    "\n",
    "import re  # regular expression \n",
    "\n",
    "def clean_string(strings):\n",
    "    result = []\n",
    "\n",
    "    for val in strings:\n",
    "        val = val.strip() # used to remove leading and trailing spaces\n",
    "        # print(val)\n",
    "        val = re.sub(\"[!#?]\",\"\",val) # replacing expressions like !,#,? with \"\"\n",
    "        # print(val)\n",
    "        val = val.title()\n",
    "        result.append(val)\n",
    "    \n",
    "    print(result)\n",
    "\n",
    "clean_string(states)\n",
    "    \n"
   ]
  },
  {
   "cell_type": "markdown",
   "id": "1cc6dea5",
   "metadata": {},
   "source": [
    "#### lambda functions "
   ]
  },
  {
   "cell_type": "code",
   "execution_count": 12,
   "id": "2550e079",
   "metadata": {},
   "outputs": [
    {
     "data": {
      "text/plain": [
       "100"
      ]
     },
     "execution_count": 12,
     "metadata": {},
     "output_type": "execute_result"
    }
   ],
   "source": [
    "equvi = lambda x : x**2\n",
    "\n",
    "equvi(10)"
   ]
  },
  {
   "cell_type": "code",
   "execution_count": 13,
   "id": "b8621084",
   "metadata": {},
   "outputs": [
    {
     "data": {
      "text/plain": [
       "16"
      ]
     },
     "execution_count": 13,
     "metadata": {},
     "output_type": "execute_result"
    }
   ],
   "source": [
    "lambda_func = lambda x,y: x*y\n",
    "\n",
    "lambda_func(8,2)"
   ]
  },
  {
   "cell_type": "code",
   "execution_count": 14,
   "id": "8b27dae3",
   "metadata": {},
   "outputs": [
    {
     "data": {
      "text/plain": [
       "[2, 4, 6, 8, 10]"
      ]
     },
     "execution_count": 14,
     "metadata": {},
     "output_type": "execute_result"
    }
   ],
   "source": [
    "def apply_to_list(some_list, f):\n",
    "    return [f(x) for x in some_list]\n",
    "\n",
    "some_list = [1,2,3,4,5]\n",
    "apply_to_list(some_list, lambda x : x*2)"
   ]
  },
  {
   "cell_type": "code",
   "execution_count": 15,
   "id": "fd9058db",
   "metadata": {},
   "outputs": [
    {
     "name": "stdout",
     "output_type": "stream",
     "text": [
      "['Ansh', 'Yash', 'Daksh', 'Chaahat']\n"
     ]
    }
   ],
   "source": [
    "names = [\"Ansh\", \"Yash\", \"Daksh\", \"Chaahat\"]\n",
    "names.sort(key=lambda x:len(x))\n",
    "\n",
    "print(names)"
   ]
  },
  {
   "cell_type": "markdown",
   "id": "0c2e7da1",
   "metadata": {},
   "source": [
    "## Error and Exception Handling "
   ]
  },
  {
   "cell_type": "code",
   "execution_count": 16,
   "id": "a4f3a992",
   "metadata": {},
   "outputs": [
    {
     "data": {
      "text/plain": [
       "1.234"
      ]
     },
     "execution_count": 16,
     "metadata": {},
     "output_type": "execute_result"
    }
   ],
   "source": [
    "float(\"1.234\")"
   ]
  },
  {
   "cell_type": "code",
   "execution_count": 17,
   "id": "83137c13",
   "metadata": {},
   "outputs": [
    {
     "data": {
      "text/plain": [
       "str"
      ]
     },
     "execution_count": 17,
     "metadata": {},
     "output_type": "execute_result"
    }
   ],
   "source": [
    "def attempt_float(x):\n",
    "    try:\n",
    "        return float(x)\n",
    "    except:\n",
    "        return type(x)\n",
    "\n",
    "attempt_float(\"Ansh\")"
   ]
  }
 ],
 "metadata": {
  "kernelspec": {
   "display_name": ".venv",
   "language": "python",
   "name": "python3"
  },
  "language_info": {
   "codemirror_mode": {
    "name": "ipython",
    "version": 3
   },
   "file_extension": ".py",
   "mimetype": "text/x-python",
   "name": "python",
   "nbconvert_exporter": "python",
   "pygments_lexer": "ipython3",
   "version": "3.12.6"
  }
 },
 "nbformat": 4,
 "nbformat_minor": 5
}
