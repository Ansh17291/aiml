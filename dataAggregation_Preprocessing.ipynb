{
 "cells": [
  {
   "cell_type": "markdown",
   "id": "ff483d02",
   "metadata": {},
   "source": [
    "### DATA AGGREGATION & GROUP OPERATIONS"
   ]
  },
  {
   "cell_type": "code",
   "execution_count": 1,
   "id": "e1025a65",
   "metadata": {},
   "outputs": [],
   "source": [
    "import numpy as np\n",
    "import pandas as pd \n",
    "import matplotlib.pyplot as plt"
   ]
  },
  {
   "cell_type": "markdown",
   "id": "35321fe2",
   "metadata": {},
   "source": [
    "### Group by\n",
    "\n",
    "\n",
    "here we group rows considering some same cols .. and then apply aggregate fnc like mean , sum , etc "
   ]
  },
  {
   "cell_type": "code",
   "execution_count": 25,
   "id": "0f036768",
   "metadata": {},
   "outputs": [
    {
     "name": "stdout",
     "output_type": "stream",
     "text": [
      "  key1 key2  data1\n",
      "0    A    X     10\n",
      "1    A    Y     20\n",
      "2    B    X     30\n",
      "3    B    Y     40\n",
      "4    A    X     50\n",
      "5    B    Y     90\n",
      "6    A    X     10\n"
     ]
    }
   ],
   "source": [
    "\n",
    "data = {\n",
    "    'key1': ['A', 'A', 'B', 'B', 'A', 'B', 'A'],\n",
    "    'key2': ['X', 'Y', 'X', 'Y', 'X', 'Y', 'X'],\n",
    "    'data1': [10, 20, 30, 40, 50, 90, 10]\n",
    "}\n",
    "df = pd.DataFrame(data)\n",
    "print(df)"
   ]
  },
  {
   "cell_type": "code",
   "execution_count": 26,
   "id": "c3fe4243",
   "metadata": {},
   "outputs": [
    {
     "data": {
      "text/plain": [
       "key1  key2\n",
       "A     X       23.333333\n",
       "      Y       20.000000\n",
       "B     X       30.000000\n",
       "      Y       65.000000\n",
       "Name: data1, dtype: float64"
      ]
     },
     "execution_count": 26,
     "metadata": {},
     "output_type": "execute_result"
    }
   ],
   "source": [
    "means = df['data1'].groupby([df['key1'], df['key2']]).mean()\n",
    "means\n",
    "\n",
    "\n",
    "# key1  key2\n",
    "# A     X       30.0   # mean of (10, 50)\n",
    "#       Y       20.0   # mean of (20)\n",
    "# B     X       30.0   # mean of (30)\n",
    "#       Y       40.0   # mean of (40)\n",
    "# Name: data1, dtype: float64\n"
   ]
  },
  {
   "cell_type": "code",
   "execution_count": 27,
   "id": "34401bb1",
   "metadata": {},
   "outputs": [
    {
     "name": "stdout",
     "output_type": "stream",
     "text": [
      "  key1 key2  data1\n",
      "0    A    X     10\n",
      "1    A    Y     20\n",
      "2    B    X     30\n",
      "3    B    Y     40\n",
      "4    A    X     50\n",
      "5    B    Y     90\n",
      "6    A    X     10\n",
      "key1  key2\n",
      "A     X        70\n",
      "      Y        20\n",
      "B     X        30\n",
      "      Y       130\n",
      "Name: data1, dtype: int64\n",
      "key2  key1\n",
      "X     A        70\n",
      "      B        30\n",
      "Y     A        20\n",
      "      B       130\n",
      "Name: data1, dtype: int64\n"
     ]
    }
   ],
   "source": [
    "sums1 = df['data1'].groupby([df['key2'], df['key1']]).sum()\n",
    "sums2 = df['data1'].groupby([df['key1'], df['key2']]).sum()\n",
    "print(df)\n",
    "print(sums2)\n",
    "print(sums1)"
   ]
  },
  {
   "cell_type": "code",
   "execution_count": 28,
   "id": "1cde30e5",
   "metadata": {},
   "outputs": [
    {
     "name": "stdout",
     "output_type": "stream",
     "text": [
      "  key1 key2  data1\n",
      "0    A    X     10\n",
      "1    A    Y     20\n",
      "2    B    X     30\n",
      "3    B    Y     40\n",
      "4    A    X     50\n",
      "5    B    Y     90\n",
      "6    A    X     10\n",
      "key1\n",
      "A     90\n",
      "B    160\n",
      "Name: data1, dtype: int64\n"
     ]
    }
   ],
   "source": [
    "ansh = df['data1'].groupby([df['key1']]).sum()\n",
    "print(df)\n",
    "print(ansh)"
   ]
  },
  {
   "cell_type": "code",
   "execution_count": 29,
   "id": "229c372f",
   "metadata": {},
   "outputs": [
    {
     "name": "stdout",
     "output_type": "stream",
     "text": [
      "key1  key2\n",
      "A     X       3\n",
      "      Y       1\n",
      "B     X       1\n",
      "      Y       2\n",
      "Name: data1, dtype: int64\n"
     ]
    }
   ],
   "source": [
    "a = df['data1'].groupby([df['key1'], df['key2']]).count()\n",
    "print(a)"
   ]
  },
  {
   "cell_type": "code",
   "execution_count": 30,
   "id": "d81be8d8",
   "metadata": {},
   "outputs": [
    {
     "data": {
      "text/plain": [
       "CA  2005    55.0\n",
       "    2006    30.0\n",
       "OH  2005    25.0\n",
       "    2006    30.0\n",
       "Name: data1, dtype: float64"
      ]
     },
     "execution_count": 30,
     "metadata": {},
     "output_type": "execute_result"
    }
   ],
   "source": [
    "states = np.array([\"OH\",\"CA\",\"CA\",\"OH\",\"OH\",\"CA\",\"OH\"])\n",
    "years = [2005,2005,2006,2005,2006,2005,2006]\n",
    "df['data1'].groupby([states, years]).mean()"
   ]
  },
  {
   "cell_type": "code",
   "execution_count": 31,
   "id": "c1b726fc",
   "metadata": {},
   "outputs": [
    {
     "data": {
      "text/html": [
       "<div>\n",
       "<style scoped>\n",
       "    .dataframe tbody tr th:only-of-type {\n",
       "        vertical-align: middle;\n",
       "    }\n",
       "\n",
       "    .dataframe tbody tr th {\n",
       "        vertical-align: top;\n",
       "    }\n",
       "\n",
       "    .dataframe thead th {\n",
       "        text-align: right;\n",
       "    }\n",
       "</style>\n",
       "<table border=\"1\" class=\"dataframe\">\n",
       "  <thead>\n",
       "    <tr style=\"text-align: right;\">\n",
       "      <th></th>\n",
       "      <th></th>\n",
       "      <th>data1</th>\n",
       "    </tr>\n",
       "    <tr>\n",
       "      <th>key1</th>\n",
       "      <th>key2</th>\n",
       "      <th></th>\n",
       "    </tr>\n",
       "  </thead>\n",
       "  <tbody>\n",
       "    <tr>\n",
       "      <th rowspan=\"2\" valign=\"top\">A</th>\n",
       "      <th>X</th>\n",
       "      <td>70</td>\n",
       "    </tr>\n",
       "    <tr>\n",
       "      <th>Y</th>\n",
       "      <td>20</td>\n",
       "    </tr>\n",
       "    <tr>\n",
       "      <th rowspan=\"2\" valign=\"top\">B</th>\n",
       "      <th>X</th>\n",
       "      <td>30</td>\n",
       "    </tr>\n",
       "    <tr>\n",
       "      <th>Y</th>\n",
       "      <td>130</td>\n",
       "    </tr>\n",
       "  </tbody>\n",
       "</table>\n",
       "</div>"
      ],
      "text/plain": [
       "           data1\n",
       "key1 key2       \n",
       "A    X        70\n",
       "     Y        20\n",
       "B    X        30\n",
       "     Y       130"
      ]
     },
     "execution_count": 31,
     "metadata": {},
     "output_type": "execute_result"
    }
   ],
   "source": [
    "df.groupby([df['key1'], df['key2']]).sum()"
   ]
  },
  {
   "cell_type": "code",
   "execution_count": 41,
   "id": "ce95c092",
   "metadata": {},
   "outputs": [
    {
     "name": "stdout",
     "output_type": "stream",
     "text": [
      "key1  key2\n",
      "A     X        70\n",
      "      Y        20\n",
      "B     X        30\n",
      "      Y       130\n",
      "Name: data1, dtype: int64\n",
      "key1  key2\n",
      "A     X        70\n",
      "      Y        20\n",
      "B     X        30\n",
      "      Y       130\n",
      "Name: data1, dtype: int64\n"
     ]
    }
   ],
   "source": [
    "print(df.groupby([df['key1'], df['key2']])['data1'].sum())\n",
    "print(df['data1'].groupby([df['key1'], df['key2']]).sum())\n"
   ]
  },
  {
   "cell_type": "code",
   "execution_count": null,
   "id": "b4cb5b75",
   "metadata": {},
   "outputs": [],
   "source": []
  }
 ],
 "metadata": {
  "kernelspec": {
   "display_name": ".venv",
   "language": "python",
   "name": "python3"
  },
  "language_info": {
   "codemirror_mode": {
    "name": "ipython",
    "version": 3
   },
   "file_extension": ".py",
   "mimetype": "text/x-python",
   "name": "python",
   "nbconvert_exporter": "python",
   "pygments_lexer": "ipython3",
   "version": "3.12.6"
  }
 },
 "nbformat": 4,
 "nbformat_minor": 5
}
